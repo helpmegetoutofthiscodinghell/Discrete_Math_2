{
  "metadata": {
    "kernelspec": {
      "name": "python",
      "display_name": "Python (Pyodide)",
      "language": "python"
    },
    "language_info": {
      "codemirror_mode": {
        "name": "python",
        "version": 3
      },
      "file_extension": ".py",
      "mimetype": "text/x-python",
      "name": "python",
      "nbconvert_exporter": "python",
      "pygments_lexer": "ipython3",
      "version": "3.8"
    }
  },
  "nbformat_minor": 5,
  "nbformat": 4,
  "cells": [
    {
      "id": "844f803d-f51e-4d3e-946d-94f88875a4e2",
      "cell_type": "markdown",
      "source": "$\\textbf{LESSON 1}$\n-",
      "metadata": {}
    },
    {
      "id": "34ff3e63-2c97-46f8-a83a-17f07bbbd959",
      "cell_type": "markdown",
      "source": "$\\textbf{1. Recall the definition of a rational number, denoted as $\\mathbb{Q}$. Prove that the Euler's number $e = \\Sigma_{k=0}^\\infty \\frac{1}{k!} \\notin \\mathbb{Q}$}$\n$\\textbf{A factorial is defined as $k! = (k)(k-1)(k-2)(k-3)..., \\forall k \\in \\mathbb{Z}^+$, note that $0! = 1$.}$. \n$\\textbf{Furthermore, a sum notation $\\Sigma_{k=0}^\\infty k = 0+ 1 + 2 + 3 +....+...$}$}$.",
      "metadata": {}
    },
    {
      "id": "709b75fb-fca2-49ca-b3b7-c17e742c0580",
      "cell_type": "markdown",
      "source": "$\\text{Answer:}$\n\nProof by Contradiction:\n\n- We assume that $e$ can be expressed as a fraction in its simplest form:\n$e = \\frac{m}{n}$\nwhere $m$ and $n$ are integers with no common factors.\n\nStep 1: Manipulating the Series Representation of $ e $\n\nWe know that $ e $ can be represented by its infinite series expansion:\n$$ e = \\sum_{k=0}^{\\infty} \\frac{1}{k!} $$\n\nLet's multiply both sides of this equation by $ n! $:\n\\begin{align*}\nn! e &= n! \\sum_{k=0}^{\\infty} \\frac{1}{k!} \\\\\nn! \\frac{m}{n} &= \\sum_{k=0}^{\\infty} \\frac{n!}{k!} \\\\\nm (n-1)! &= \\sum_{k=0}^{\\infty} \\frac{n!}{k!}\n\\end{align*}\n\nStep 2: Analyzing the Series Terms\n\nNow, let's examine the terms on the right side. We can rewrite each term as:\n$$ \\frac{n!}{k!} = n(n-1)(n-2) \\cdots (k+1) $$\nThis shows that every term in the series is an integer because it's a product of consecutive positive integers up to $ n $.\n\n\nStep 3: Separating Finite and Infinite Sums\n\nWe can separate the series into two parts: a finite sum containing the first $ n+1 $ terms and an infinite sum with the remaining terms:\n\\begin{align*}\n\\sum_{k=0}^{n} \\frac{n!}{k!} &= n! + \\frac{n!}{1!} + \\frac{n!}{2!} + \\cdots + \\frac{n!}{n!} \\\\\n\\sum_{k=n+1}^{\\infty} \\frac{n!}{k!} &= \\frac{n!}{(n+1)!} + \\frac{n!}{(n+2)!} + \\frac{n!}{(n+3)!} + \\cdots\n\\end{align*}\n\nWe can rewrite our original equation as:\n$$ m(n-1)! = \\sum_{k=0}^{n} \\frac{n!}{k!} + \\sum_{k=n+1}^{\\infty} \\frac{n!}{k!} $$\n\nStep 4: The Contradiction\n\nSince $ m(n-1)! $ is an integer (the product of two integers), the sum of the two series on the right side must also be an integer.\n\nHowever, we can show that the second series, $ \\sum_{k=n+1}^{\\infty} \\frac{n!}{k!} $, is always less than 1.\n\n\\begin{align*}\n\\sum_{k=n+1}^{\\infty} \\frac{n!}{k!} &= \\frac{n!}{(n+1)!} + \\frac{n!}{(n+2)!} + \\frac{n!}{(n+3)!} + \\cdots \\\\\n&= \\frac{1}{n+1} + \\frac{1}{(n+1)(n+2)} + \\frac{1}{(n+1)(n+2)(n+3)} + \\cdots \\\\\n&< \\frac{1}{n+1} \\left( 1 + \\frac{1}{n+1} + \\frac{1}{(n+1)^2} + \\cdots \\right) \\\\\n&= \\frac{1}{n+1} \\sum_{j=0}^{\\infty} \\frac{1}{(n+1)^j} \\\\\n&= \\frac{1}{n+1} \\cdot \\frac{1}{1 - \\frac{1}{n+1}} \\\\\n&= \\frac{1}{n+1} \\cdot \\frac{n+1}{n} \\\\\n&= \\frac{1}{n} \\\\\n&< 1\n\\end{align*}\n\nThis implies that $ m(n-1)! $ is not an integer because it is an integer plus a fraction less than 1. This contradiction shows that $ e $ cannot be expressed as a fraction $ \\frac{m}{n} $. Hence, $ e $ is irrational.",
      "metadata": {}
    },
    {
      "id": "606eeea7-0ebe-409f-b6f7-97e2d2a52a74",
      "cell_type": "markdown",
      "source": "$\\textbf{2. Prove Minkowski's Inequality for sums, $\\forall \\ p>1, (a_k, b_k)>0$:}$\n\\begin{gather} \n\\begin{bmatrix} \n\\Sigma_{k=1}^n |a_k + b_k|^p \n\\end{bmatrix}^\\frac{1}{p}\n\\leq\n\\begin{bmatrix} \n\\Sigma_{k=1}^n |a_k|^p \n\\end{bmatrix}^ \\frac{1}{p}\n+\n\\begin{bmatrix}\n\\Sigma_{k=1}^n |b_k|^p\n\\end{bmatrix}^\\frac{1}{p}\n\\end{gather}",
      "metadata": {}
    },
    {
      "id": "f0e14588-7cbe-44e7-8185-59227c63b7ee",
      "cell_type": "markdown",
      "source": "$\\text{Answer:}$\n\nStep 1: Laws of Exponents (Power raised to a power):\n\nLet $n$ be any base number, then ${(n^p)}^\\frac{1}{p}=n$.\n  Thus,\n  \\begin{equation}\n  \\Sigma_{k=1}^n |a_k + b_k| \\leq \\Sigma_{k=1}^n |a_k| + \\Sigma_{k=1}^n |b_k|\n  \\end{equation}\n\nStep 2: Property of Summation (Addition):\n\n\\begin{equation}\n\\Sigma_{k=1}^n |a_k + b_k| \\leq \\Sigma_{k=1}^n |a_k| + |b_k|\n\\end{equation}\n\nStep 3: Prove by Triangle Inequality:\n\nDisregarding the Sigma Notation, we get:\n\\begin{equation}\n|a_k + b_k| \\leq |a_k| + |b_k|\n\\end{equation}\n\nSince $(a_k, b_k) > 0$, then $(a + b) = a + b$, and $|a| = a_k$, $|b| = b_k$. Substituting:\n\\begin{equation}\n|a + b| = a + b = |a| + |b|\n\\end{equation}\n",
      "metadata": {}
    },
    {
      "id": "fd43a720-cf06-441f-8381-98f154cde0c0",
      "cell_type": "markdown",
      "source": "$\\textbf{3. Prove the triangle inequality $|x+y| \\leq |x| + |y|, \\forall (x,y) \\in \\mathbb{R}$}$",
      "metadata": {}
    },
    {
      "id": "d3107be2-ece1-4b5b-970c-8aa0b8ff31f3",
      "cell_type": "markdown",
      "source": "$\\text{Answer:}$\n\nStep 1: Definition of an absolute value\n\n- Definition\n\\begin{equation}\n{|x| = }\n\\begin{cases}\nx, & \\text{if } x \\geq 0 \\\\\n-x, & \\text{if } x < 0\n\\end{cases}\n\\end{equation}\n\n- Thus, we must solve for 4 cases:\n\n\\begin{align}\n\\text{Case 1: } & \\text{if } x \\geq 0, y \\geq 0 \\\\\n\\text{Case 2: } & \\text{if } x < 0, y < 0 \\\\\n\\text{Case 3: } & \\text{if } x \\geq 0, y < 0 \\\\\n\\text{Case 4: } & \\text{if } x < 0, y \\geq 0 \\\\\n\\end{align}\n\nCase 1: $x \\geq 0, y \\geq 0$\n\n- Let, $|x + y| = x + y$, and $|x| = x, |y| = y$\n- Substitution:\n\\begin{equation}\n|x + y| = x + y = |x| + |y|\n\\end{equation}\n\nCase 2: $x < 0, y < 0$\n\n- Let, $|x + y| = -(x + y)$, and $|x| = -x, |y| = -y$\n- Substitution:\n\\begin{equation}\n|x + y| = -(x + y) = -x + (-y) = |x| + |y|\n\\end{equation}\n\nCase 3: $x \\geq 0, y < 0$\n\n- Let, $|x| = x, |y| = -y$\n- Substitution:\n\\begin{equation}\n|x + y| \\leq x - y\n\\end{equation}\n- Since $x$ and $y$ are different signs, let's consider two sub-cases for $|x + y|$:\n\\begin{align}\n& \\text{For } x + y \\geq 0: \\\\\n& \\quad x + y \\leq x - y \\\\\n& \\quad y \\leq -y \n\\end{align}\n\n\\begin{align}\n& \\text{For } x + y < 0: \\\\\n& \\quad -(x + y) \\leq x - y \\\\\n& \\quad -x - y \\leq x - y \\\\\n& \\quad -x \\leq x \n\\end{align}\n\nCase 4: $x < 0, y \\geq 0$\n\n- Let, $|x| = -x, |y| = y$\n- Substitution:\n\\begin{equation}\n|x + y| \\leq -x + y\n\\end{equation}\n- Solve for sub-cases of $|x + y|$:\n\\begin{align}\n& \\text{For } x + y \\geq 0: \\\\\n& \\quad x + y \\leq -x + y \\\\\n& \\quad x \\leq -x\n\\end{align}\n\n\\begin{align}\n& \\text{For } x + y < 0: \\\\\n& \\quad -(x + y) \\leq -x + y \\\\\n& \\quad -x - y \\leq -x + y \\\\\n& \\quad -y \\leq y\n\\end{align}\n",
      "metadata": {}
    },
    {
      "id": "e817c5b4-05d8-4896-a7ca-a1765174f753",
      "cell_type": "markdown",
      "source": "$\\textbf{4. Prove Sedrakayan's Lemma $\\forall u_i, v_i \\in \\mathbb{R}^+$:}$\n\n\\begin{gather}\n\\frac{(\\Sigma_{i=1}^n u_i)^2}{\\Sigma_{i=1}^n v_i}\n\\leq\n\\Sigma_{i=1}^n \\frac{(u_i)^2}{v_i}\n\\end{gather}",
      "metadata": {}
    },
    {
      "id": "da2bd635-1de2-485c-aeba-cc9bdde55f82",
      "cell_type": "markdown",
      "source": "$\\text{Answer:}$\n\nAssume $\\frac{a}{b} \\leq c$, then $a \\leq cb$.\n\nTherefore:\n\n\\begin{equation}\n\\frac{\\left(\\sum_{i=1}^n u_i\\right)^2}{\\sum_{i=1}^n v_i}\n\\leq\n\\sum_{i=1}^n \\frac{(u_i)^2}{v_i}\n\\end{equation}\n\n\\begin{equation}\n\\left(\\sum_{i=1}^n u_i\\right)^2\n\\leq\n\\sum_{i=1}^n \\frac{(u_i)^2}{v_i} \\left(\\sum_{i=1}^n v_i\\right)\n\\end{equation}",
      "metadata": {}
    },
    {
      "id": "ee3ffc14-8a17-4632-9934-b55d537884ba",
      "cell_type": "markdown",
      "source": "$\\textbf{1. Consider the functions $f(x) = 2x+1$, $g(x)=2y-1$, $j(x) = |f(x)+g(x)|$, and $h(x) = j(x)^2$, show for the following inequality that:}$\n\n\\begin{gather}\n\\sqrt{|f(x)|^2} \\geq \\sqrt{h(x)} - \\sqrt{|g(x)|^2}, \\forall (x,y) \\in \\mathbb{Z}^+\n\\end{gather}",
      "metadata": {}
    },
    {
      "id": "2871d5e0-9c7e-4acd-ac96-063e8c81bfef",
      "cell_type": "markdown",
      "source": "$\\text{Answer:}$\n\n<b>Step 1:</b> Substitution\n\n\\begin{equation}\n\\sqrt{\\left|f(x)\\right|^2} \\geq \\sqrt{\\left|f(x) + g(x)\\right|^2} - \\sqrt{\\left|g(x)\\right|^2}\n\\end{equation}\n\n<b>Step 2:</b> Minkowski's Inequality for sums\n\n\\begin{equation}\n\\left|f(x)\\right| \\geq \\left|f(x) + g(x)\\right| - \\left|g(x)\\right|\n\\end{equation}\n\n<b>Step 3:</b> Transpose\n\n\\begin{equation}\n\\left|f(x)\\right| + \\left|g(x)\\right| \\geq \\left|f(x) + g(x)\\right|\n\\end{equation}\n\n<b>Step 4:</b> Rearrange to Triangle Inequality\n\n\\begin{equation}\n\\left|f(x) + g(x)\\right| \\leq \\left|f(x)\\right| + \\left|g(x)\\right|\n\\end{equation>\n\n<b>Step 5:</b> Prove with the case: $f(x) > 0$, and $g(x) > 0$, Since $\\forall (x,y) \\in \\mathbb{Z}^+$\n\nLet $\\left|f(x) + g(x)\\right| = f(x) + g(x)$, and $|x| = x$, $|y| = y$\n\n- Substitute\n\\begin{equation}\n\\left|f(x) + g(x)\\right| = f(x) + g(x) = \\left|f(x)\\right| + \\left|g(x)\\right|\n\\end{equation}\n",
      "metadata": {}
    },
    {
      "id": "183c6f37-f8f9-49aa-a737-27fd42ca0e30",
      "cell_type": "markdown",
      "source": "$\\textbf{2. Prove Sedrakayan's Lemma if $u_i, v_i$ are square roots of an even integers:}$\n\n\\begin{gather}\n\\frac{(\\Sigma_{i=1}^n u_i)^2}{\\Sigma_{i=1}^n v_i}\n\\leq\n\\Sigma_{i=1}^n \\frac{(u_i)^2}{v_i}\n\\end{gather}",
      "metadata": {}
    },
    {
      "id": "63a90dde-5a4c-48bf-af2c-7b8b595d36c1",
      "cell_type": "markdown",
      "source": "To prove Sedrakayan's Lemma when $ u_i $ and $ v_i $ are square roots of even integers:\n\nLet $ u_i = \\sqrt{2a_i} $ and $ v_i = \\sqrt{2b_i} $, where $ a_i $ and $ b_i $ are positive integers. We need to show:\n\n$$\n\\frac{\\left( \\sum_{i=1}^n \\sqrt{2a_i} \\right)^2}{\\sum_{i=1}^n \\sqrt{2b_i}} \\leq \\sum_{i=1}^n \\frac{(2a_i)}{(2b_i)}\n$$\n\nExpanding the terms, we get:\n\n$$\n\\frac{\\left( \\sum_{i=1}^n \\sqrt{2a_i} \\right)^2}{\\sum_{i=1}^n \\sqrt{2b_i}} = \\frac{\\left( \\sum_{i=1}^n \\sqrt{2a_i} \\right) \\left( \\sum_{i=1}^n \\sqrt{2a_i} \\right)}{\\sum_{i=1}^n \\sqrt{2b_i}}\n$$\n\nand\n\n$$\n\\sum_{i=1}^n \\frac{(2a_i)}{(2b_i)} = \\sum_{i=1}^n \\frac{2a_i}{2b_i}\n$$\n\nSince $ \\sqrt{2a_i} $ and $ \\sqrt{2b_i} $ are positive, we can rewrite the inequality as:\n\n$$\n\\frac{\\left( \\sum_{i=1}^n \\sqrt{2a_i} \\right)^2}{\\sum_{i=1}^n \\sqrt{2b_i}} \\leq \\sum_{i=1}^n \\frac{\\sqrt{2a_i}^2}{\\sqrt{2b_i}}\n$$\n\nNow, consider the following identity:\n\n$$\n\\left( \\sum_{i=1}^n x_i \\right)^2 = \\sum_{i=1}^n x_i^2 + 2 \\sum_{1 \\leq i < j \\leq n} x_i x_j\n$$\n\nApplying this identity to the numerator, we get:\n\n$$\n\\frac{\\left( \\sum_{i=1}^n \\sqrt{2a_i} \\right)^2}{\\sum_{i=1}^n \\sqrt{2b_i}} = \\frac{\\sum_{i=1}^n (2a_i) + 2 \\sum_{1 \\leq i < j \\leq n} \\sqrt{2a_i} \\sqrt{2a_j}}{\\sum_{i=1}^n \\sqrt{2b_i}}\n$$\n\nSince $2a_i$ and $2b_i$ are even integers, $2 \\sum_{1 \\leq i < j \\leq n} \\sqrt{2a_i} \\sqrt{2a_j}$ is also even.\n\nNow, we have:\n\n$$\n\\frac{\\sum_{i=1}^n (2a_i)}{\\sum_{i=1}^n \\sqrt{2b_i}} + \\frac{2 \\sum_{1 \\leq i < j \\leq n} \\sqrt{2a_i} \\sqrt{2a_j}}{\\sum_{i=1}^n \\sqrt{2b_i}} \\leq \\sum_{i=1}^n \\frac{(2a_i)}{\\sqrt{2b_i}}\n$$\n\nSimplifying, we get:\n\n$$\n\\frac{\\sum_{i=1}^n (2a_i)}{\\sum_{i=1}^n \\sqrt{2b_i}} \\leq \\sum_{i=1}^n \\frac{(2a_i)}{\\sqrt{2b_i}}\n$$\n\nSince both sides of the inequality are non-negative, and the numerator of the left-hand side contains the terms of the denominator of the right-hand side, the inequality holds true.\n\nTherefore, Sedrakayan's Lemma is proven for $ u_i $ and $ v_i $ being square roots of even integers.\n",
      "metadata": {}
    }
  ]
}