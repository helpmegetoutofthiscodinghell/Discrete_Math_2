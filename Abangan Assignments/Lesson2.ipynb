{
  "metadata": {
    "kernelspec": {
      "name": "python",
      "display_name": "Python (Pyodide)",
      "language": "python"
    },
    "language_info": {
      "codemirror_mode": {
        "name": "python",
        "version": 3
      },
      "file_extension": ".py",
      "mimetype": "text/x-python",
      "name": "python",
      "nbconvert_exporter": "python",
      "pygments_lexer": "ipython3",
      "version": "3.8"
    }
  },
  "nbformat_minor": 4,
  "nbformat": 4,
  "cells": [
    {
      "cell_type": "markdown",
      "source": "$\\textbf{LESSON 2: ASSIGNMENT ANSWERS}$\n-",
      "metadata": {}
    },
    {
      "cell_type": "markdown",
      "source": "$\\textbf{Task 1:}$\n-",
      "metadata": {}
    },
    {
      "cell_type": "markdown",
      "source": "$\\textbf{Question 1: Show that the expected value $E[y] = \\Sigma y \\cdotp P(y) = n \\cdot p_i$}$",
      "metadata": {}
    },
    {
      "cell_type": "markdown",
      "source": "$\\textbf{Proof of Expected Value of $y$}$\n\n$\\text{Step 1: Definition of Expected Value}$\n\nThe expected value of a random variable $y$, denoted as $E[y]$, is defined as the sum of all possible outcomes $y$ weighted by their respective probabilities $P(y)$.\n\n\\begin{equation}\nE[y] = \\sum_{y} y \\cdot P(y)\n\\end{equation}\n\n$\\text{Step 2: Substitution of Joint Probability Distribution}$\n\nGiven the joint probability distribution $P(y)$, we substitute it into the expression for $E[y]$.\n\n\\begin{equation}\nE[y] = \\sum_{y} y \\cdot \\left(\\frac{n!}{y_1!y_2!y_3! \\ldots y_k!} \\cdot p_1^{y_1} p_2^{y_2} p_3^{y_3} \\ldots p_k^{y_k}\\right)\n\\end{equation}\n\n$\\text{Step 3: Expansion and Rearrangement}$\n\nExpanding the sum and rearranging terms, we get:\n\n\\begin{equation}\nE[y] = \\sum_{y} \\frac{n!}{y_1!y_2!y_3! \\ldots y_k!} \\cdot (y_1 \\cdot p_1) \\cdot (y_2 \\cdot p_2) \\cdot (y_3 \\cdot p_3) \\ldots (y_k \\cdot p_k)\n\\end{equation}\n\n$\\text{Step 4: Simplification}$\n\nWe simplify the expression by recognizing that the terms $n!$ and $y_1!y_2!y_3! \\ldots y_k!$ cancel out, resulting in:\n\n\\begin{equation}\nE[y] = n  \\cdot (p_1 \\cdot p_2 \\cdot p_3 \\ldots p_k)\n\\end{equation}\n\n$\\text{Step 5: Final Result}$\n\nRecalling that $p_1 + p_2 + p_3 + \\ldots + p_k = 1$, we have:\n\n\\begin{equation}\nE[y] = n \\cdot 1 = n\n\\end{equation}\n\n$\\text{Conclusion}$\n\nThus, the expected value $E[y]$ is equal to $n$, indicating the average outcome of the random variable $y$.",
      "metadata": {}
    },
    {
      "cell_type": "markdown",
      "source": "$\\textbf{Question 2: Given the data in the table above, if 500 adults are sampled  randomly, find the probability that the sample contains}$ \n$\\textbf{100 person between 18 and 24, 200 between the ages of 25 and 34, and 200 between the ages of 45 and 64.}$ \n$\\textbf{What is the expected value for to obtain a person in the 65 and above?}$",
      "metadata": {}
    },
    {
      "cell_type": "markdown",
      "source": "$\\textbf{Given:}$\n\n- $n = 500$ (total number of adults sampled)\n- $p_{65-100} = 0.16$ (probability of obtaining a person aged 65 and above)\n\n$\\textbf{Step 1: Apply the Formula}$\n\nThe expected value $E[Y_{65+}]$ is calculated using the formula:\n\n- $ E[Y_{65+}] =  n \\cdot p_{65-100}$\n\n$\\textbf{Step 2: Substitute Values}$\n\nSubstituting the given values into the formula:\n\n- $ E[Y_{65+}] = 500 \\cdot 0.16$\n- $ E[Y_{65+}] = 80$\n\n$\\textbf{Conclusion:}$\n\nTherefore, the expected value to obtain a person aged 65 and above given a sample size of 500 adults is 80.\n",
      "metadata": {}
    },
    {
      "cell_type": "markdown",
      "source": "$\\textbf{Task 2:}$\n-",
      "metadata": {}
    },
    {
      "cell_type": "markdown",
      "source": "$\\textbf{Question 1: From the following steps shown above, derive the probability distribution of the experiment.}$ ",
      "metadata": {}
    },
    {
      "cell_type": "markdown",
      "source": "$\\textbf{Understanding the Binomial Distribution}$\n\nThe probability distribution of $Y$ is governed by the binomial distribution, which is described by the binomial probability mass function:\n\n\\begin{equation}\nP(Y = y) = \\binom{n}{y} \\cdot p^y \\cdot q^{n-y}\n\\end{equation}\n\nwhere:\n\n- $P(Y = y)$ represents the probability of observing $y$ successes in $n$ trials.\n- $\\binom{n}{y}$ denotes the binomial coefficient, indicating the number of ways to choose $y$ successes out of $n$ trials.\n- $p^y$ denotes the probability of achieving $y$ successes.\n- $q^{n-y}$ denotes the probability of encountering $(n - y)$ failures.\n\nThis formula encapsulates the essence of the binomial distribution, providing insights into the likelihood of different outcomes in a series of independent and identically distributed trials.",
      "metadata": {}
    },
    {
      "cell_type": "markdown",
      "source": "$\\textbf{Question 2: Show that the expectation of this probability distribution is $E[y] = \\Sigma y \\cdotp P(y) = np$.}$",
      "metadata": {}
    },
    {
      "cell_type": "markdown",
      "source": "$\\textbf{Step 1: Define the Expectation}$\n\nThe expectation $E[y]$ is defined as the sum of all possible outcomes $y$ weighted by their respective probabilities.\n\n\\begin{equation}\nE[y] = \\sum_{y=0}^n y \\cdot P(y)\n\\end{equation}\n\n$\\textbf{Step 2: Substitute the Binomial Probability Mass Function}$\n\nSubstituting the binomial probability mass function into the expectation formula:\n\n\\begin{equation}\nE[y] = \\sum_{y=0}^n \\binom{n}{y} \\cdot p^y \\cdot q^{n-y}\n\\end{equation}\n\n$\\textbf{Step 3: Simplify the Expression}$\n\nSimplify the expression by replacing $q$ with $(1-p)$ and rearranging terms:\n\n\\begin{equation}\nE[y] = \\sum_{y=0}^n \\frac{n!}{y!(n-y)!} \\cdot p^y \\cdot (1-p)^{(n-y)}\n\\end{equation}\n\n$\\textbf{Step 4: Factor Out Constants}$\n\nSince $p$ is constant, we can factor it out of the summation:\n\n\\begin{equation}\nE[y] = np \\sum_{y=0}^n \\frac{(n-1)!}{(y-1)!(n-y)!} \\cdot p^{(y-1)} \\cdot (1-p)^{(n-y)}\n\\end{equation}\n\n$\\textbf{Step 5: Rearrange the Terms}$\n\nRearrange the terms to prepare for applying the binomial theorem:\n\n\\begin{equation}\nE[y] = np \\sum_{y=1}^n \\frac{(n-1)!}{(y-1)!(n-y)!} \\cdot p^{(y-1)} \\cdot (1-p)^{(n-y)}\n\\end{equation}\n\n$\\textbf{Step 6: Apply the Binomial Theorem}$\n\nUtilize the binomial theorem to simplify the expression:\n\n\\begin{equation}\n(p + (1-p))^{n-1} = \\sum_{k=0}^{n-1} \\binom{n-1}{k} \\cdot p^{k} \\cdot (1-p)^{(n-1-k)}\n\\end{equation}\n\nThis expands to $1^{n-1}$, resulting in $\\sum_{y=0}^n \\frac{(n-1)!}{y!(n-y)!} \\cdot p^{y} \\cdot (1-p)^{(n-y)}$.\n\n$\\textbf{Step 7: Simplify the Expression}$\n\nSince the expansion of $(p + (1-p))^{n-1}$ simplifies to 1, the sum becomes 1, leading to:\n\n\\begin{equation}\nE[y] = np \\cdot 1\n\\end{equation}\n\nThis simplifies to the final result: $E[y] = np$.\n\n$\\textbf{Conclusion}$\n\nHence, the expectation of a binomial distribution, $E[y] = np$, confirms that the mean equals the product of the number of trials and the probability of success.\n",
      "metadata": {}
    },
    {
      "cell_type": "markdown",
      "source": "$\\textbf{Question 3: Experience has shown that 30 percent of all persons afflicted by a certain illness recover. A drug company has}$  \n$\\textbf{developed a new medication. Ten people with the illness were selected at random and received the medication;}$\n$\\textbf{nine recovered shortly thereafter. Suppose that the medication was absolutely worthless.}$\n$\\textbf{What is the probability that at least nine of ten receiving the medication will recover?}$",
      "metadata": {}
    },
    {
      "cell_type": "markdown",
      "source": "$\\textbf{Given:}$\n\n- Probability of success (recovery) $p = 0.30$\n- Number of trials $n = 10$\n- Number of successes (recoveries) $y = 9$\n\n$\\textbf{Solution:}$\n\nUsing the binomial probability mass function:\n\n\\begin{align*}\nP(Y \\geq 9) &= P(Y = 9) + P(Y = 10) \\\\\n&= \\binom{10}{9} \\cdot (0.30)^9 \\cdot (1 - 0.30)^{10-9} + \\binom{10}{10} \\cdot (1 - 0.30)^{10-10} \\\\\n&= 10 \\cdot (0.30)^9 \\cdot (0.70)^1 + 1 \\cdot (0.30)^{10}  \\cdot (0.70)^0 \\\\\n&= 10 \\cdot (0.30)^9 \\cdot 0.70 + (0.30)^{10} \\\\\n&\\approx 0.000137781 + 0.0000059049 \\\\\n&\\approx 0.0001436869 \\text{ or } 0.014\\%\n\\end{align*}\n\n$\\textbf{Conclusion:}$\n\nHence, the probability that at least nine out of ten individuals receiving the medication will recover is approximately $0.014\\%$.\n",
      "metadata": {}
    },
    {
      "cell_type": "markdown",
      "source": "$\\textbf{Question 4: Suppose that a lot of 5000 electrical fuses contains 5 percent defectives. If a sample of 5 fuses is tested, }$\n$\\textbf{find the probability of observing at least one defective.}$ ",
      "metadata": {}
    },
    {
      "cell_type": "markdown",
      "source": "$\\textbf{Given:}$\n\n- Probability of success (a fuse being non-defective) $p = 0.95$\n- Number of trials $n = 5$\n\n$\\textbf{Solution:}$\n\n\\begin{align*}\nP(\\text{At least one defective}) &= 1 - P(\\text{None defective}) \\\\\n&= 1 - P(Y = 0)\n\\end{align*}\n\nUsing the binomial probability mass function:\n\n\\begin{align*}\nP(Y=0) &= \\binom {5}{0} \\cdot (0.05)^0 \\cdot (1 - 0.05)^{5-0} \\\\\n&= (0.95)^5 \\\\\nP(\\text{At least one defective}) &= 1 - (0.95)^5 \\\\\n&\\approx 1 - 0.7738 \\\\\n&\\approx 0.2262\n\\end{align*}\n\n$\\textbf{Conclusion:}$\n\nTherefore, the probability of observing at least one defective fuse in a sample of 5 fuses is approximately $0.2262$ or $22.62\\%$.\n",
      "metadata": {}
    },
    {
      "cell_type": "markdown",
      "source": "$\\textbf{Task 3:}$\n-",
      "metadata": {}
    },
    {
      "cell_type": "markdown",
      "source": "$\\textbf{Question 1: Find a general formula for the expected value of this distribution $p(y) = \\frac{\\lambda^y}{y!} e^{-\\lambda}$.}$ ",
      "metadata": {}
    },
    {
      "cell_type": "markdown",
      "source": "Given probability distribution: \n\n$$ p(y) = \\frac{\\lambda^y}{y!} e^{-\\lambda} $$\n\nExpected value formula: \n\n$$ E[Y] = \\sum_{y=0} ^ \\infty y \\cdot p(y) $$\n\n$\\textbf{Step 1:}$ Substituting the Probability Distribution into the Expected Value Formula\n\n$$ E[Y] = \\sum_{y=0} ^ \\infty y \\cdot \\frac{\\lambda^y}{y!} e^{-\\lambda} $$\n\n$\\textbf{Step 2:}$ Factoring out Constants\n\n$$ E[Y] = e^{-\\lambda} \\sum_{y=0} ^ \\infty \\frac{\\lambda^y}{(y - 1)!} $$\n\n$\\textbf{Step 3:}$ Shifting the Index of Summation\n\nSince $y = 0$ makes $\\frac{\\lambda^y}{(y - 1)!}$ undefined, we shift the index of summation to start from $y = 1$.\n\n$$ E[Y] = e^{-\\lambda} \\sum_{y=1} ^ \\infty \\frac{\\lambda^y}{(y - 1)!} $$\n\n$\\textbf{Step 4:}$ Rewriting $\\frac{\\lambda^y}{(y - 1)!}$\n\n$$ E[Y] = e^{-\\lambda} \\sum_{y=1} ^ \\infty \\frac{\\lambda^{(y-1)+ 1}}{(y - 1)!} $$\n\n$\\textbf{Step 5:}$ Changing the Index of Summation\n\nChange the index of summation to start from $y = 0$ to simplify the expression.\n\n$$ E[Y] = e^{-\\lambda} \\sum_{y=0} ^ \\infty \\frac{\\lambda^{y+1}}{y!} $$\n\n$\\textbf{Step 6:}$ Factoring out $\\lambda$\n\n$$ E[Y] = e^{-\\lambda} \\lambda \\sum_{y=0} ^ \\infty \\frac {\\lambda^{y}}{y!} $$\n\n$\\textbf{Step 7:}$ Recall the Definition of $e^{\\lambda}$\n\n$$ E[Y] = e^{-\\lambda} \\lambda e^{\\lambda} $$\n\n$\\textbf{Step 8:}$ Simplifying\n\n$$ E[Y] = \\lambda $$\n\n$\\textbf{Conclusion:}$\n\nTo conclude, the general formula for the expected value of the given distribution is $E[Y] = \\lambda$.\n",
      "metadata": {}
    },
    {
      "cell_type": "markdown",
      "source": "$\\textbf{Question 2: A certain type of tree has seedlings randomly dispersed in a large area, with the mean density of seedlings being}$\n$\\textbf{approximately five per square yard. If a forester randomly locates ten 1-square-yard sampling regions in the area,}$ \n$\\textbf{find the probability that none of the regions will contain seedlings.}$",
      "metadata": {}
    },
    {
      "cell_type": "markdown",
      "source": "$\\textbf{Given:}$\n- $\\lambda = 5$\n\n$\\textbf{Solution:}$\n\nUsing the formula for the Poisson distribution:\n\n$$P(Y = y) = \\frac{\\lambda^y}{y!} e^{-\\lambda}$$\n\nFor $y = 0$:\n\n$$P(Y = 0) = \\frac{5^0}{0!} e^{-5} = e^{-5}$$\n\nCalculating this probability:\n\n$$P(Y = 0) \\approx e^{-5} \\approx 0.006737947$$\n\n$\\textbf{Conclusion:}$\n\nThe probability that none of the regions will contain seedlings is approximately $0.0067$ or $0.67\\%$.\n",
      "metadata": {}
    }
  ]
}